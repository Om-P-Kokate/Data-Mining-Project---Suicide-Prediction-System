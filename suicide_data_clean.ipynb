{
 "cells": [
  {
   "cell_type": "code",
   "execution_count": 1,
   "metadata": {},
   "outputs": [],
   "source": [
    "import pandas as pd\n",
    "import os\n",
    "import csv"
   ]
  },
  {
   "cell_type": "code",
   "execution_count": 2,
   "metadata": {},
   "outputs": [
    {
     "data": {
      "text/plain": [
       "24"
      ]
     },
     "execution_count": 2,
     "metadata": {},
     "output_type": "execute_result"
    }
   ],
   "source": [
    "def FilesPath(path):\n",
    "    filespath = []\n",
    "    for root, dir, files in os.walk(path):\n",
    "        for file in files:\n",
    "            filespath.append(os.path.join(root, file))\n",
    "    return filespath\n",
    "\n",
    "Total_file = FilesPath('./suicide_data')\n",
    "len(Total_file)"
   ]
  },
  {
   "cell_type": "code",
   "execution_count": 3,
   "metadata": {},
   "outputs": [],
   "source": [
    "file_paths = []\n",
    "merged_df = None\n",
    "\n",
    "for file_path in (Total_file[1:len(Total_file)]):\n",
    "    file_paths.append(file_path)\n",
    "\n",
    "for file in file_paths:\n",
    "    # 讀取檔案並跳過前兩行標題\n",
    "    year = file.split('/')[-1].split('.')[0]  # 從檔名中提取年份\n",
    "    df = pd.read_csv(file, encoding='utf-8', skiprows=2)\n",
    "    \n",
    "    # 重命名 'Total' 欄位，區分不同年份\n",
    "    df.rename(columns={'Total': f'{year} Suicide Rate'}, inplace=True)\n",
    "    \n",
    "    # 合併檔案 (若 merged_df 是 None，則初始化為第一個 DataFrame)\n",
    "    if merged_df is None:\n",
    "        merged_df = df\n",
    "    else:\n",
    "        merged_df = pd.merge(merged_df, df, on='Category', how='inner')"
   ]
  },
  {
   "cell_type": "code",
   "execution_count": 4,
   "metadata": {},
   "outputs": [],
   "source": [
    "rows = []\n",
    "for row in merged_df:\n",
    "    rows.append(row)\n",
    "avg_df = merged_df\n",
    "rate = avg_df[rows].select_dtypes(include='number')\n",
    "avg_df['Average suicide rate'] = rate.mean(axis = 1)\n",
    "avg_df.to_csv('merged_suicide_rates_years_1990_2019.csv', index=False)"
   ]
  },
  {
   "cell_type": "code",
   "execution_count": 5,
   "metadata": {},
   "outputs": [
    {
     "name": "stderr",
     "output_type": "stream",
     "text": [
      "/var/folders/c2/snb3yrcs1w38z7qd3r208vch0000gn/T/ipykernel_27337/2036512285.py:10: SettingWithCopyWarning: \n",
      "A value is trying to be set on a copy of a slice from a DataFrame\n",
      "\n",
      "See the caveats in the documentation: https://pandas.pydata.org/pandas-docs/stable/user_guide/indexing.html#returning-a-view-versus-a-copy\n",
      "  both_sexes_df.drop(columns=['SuicideRate_Type_Year', 'SuicideRate_Type'], inplace=True)\n"
     ]
    }
   ],
   "source": [
    "path = './suicide-rate-by-country-2024.csv'\n",
    "df = pd.read_csv(path, encoding = 'utf-8')\n",
    "melted_df = pd.melt(df, \n",
    "                    id_vars=['Category'],  \n",
    "                    var_name='SuicideRate_Type_Year',\n",
    "                    value_name='RatePer100k')\n",
    "\n",
    "melted_df[['SuicideRate_Type', 'Year']] = melted_df['SuicideRate_Type_Year'].str.extract(r'(.*)_RatePer100k_(\\d{4})')\n",
    "both_sexes_df = melted_df[melted_df['SuicideRate_Type'] == 'SuicideRate_BothSexes']\n",
    "both_sexes_df.drop(columns=['SuicideRate_Type_Year', 'SuicideRate_Type'], inplace=True)\n",
    "both_sexes_df = both_sexes_df.dropna()\n",
    "both_sexes_df = both_sexes_df.pivot(index='Category', columns='Year', values='RatePer100k')\n",
    "\n",
    "final_merged_df = pd.merge(merged_df, both_sexes_df, how='left', left_on='Category', right_on='Category')\n",
    "\n",
    "rows = []\n",
    "for row in final_merged_df:\n",
    "    rows.append(row)\n",
    "rate = final_merged_df[rows].select_dtypes(include='number')\n",
    "final_merged_df['Average suicide rate'] = rate.mean(axis = 1)\n",
    "\n",
    "final_merged_df.to_csv('final_merged_bothsexes_suicide_rates_1990_2021.csv', index=False)\n"
   ]
  },
  {
   "cell_type": "code",
   "execution_count": 6,
   "metadata": {},
   "outputs": [],
   "source": [
    "path = './suicide-rate-by-country-2024.csv'\n",
    "df = pd.read_csv(path, encoding = 'utf-8')\n",
    "melted_df = pd.melt(df, \n",
    "                    id_vars=['Category'],  \n",
    "                    var_name='SuicideRate_Variable',\n",
    "                    value_name='RatePer100k')\n",
    "\n",
    "melted_df[['SuicideRate_Type', 'Year']] = melted_df['SuicideRate_Variable'].str.extract(r'SuicideRate_(.*)_RatePer100k_(\\d{4})')\n",
    "\n",
    "melted_df.rename(columns={'RatePer100k': 'Suicide Rate'}, inplace=True)\n",
    "melted_df.drop(columns=['SuicideRate_Variable'], inplace=True)\n",
    "melted_df = melted_df.dropna()\n",
    "\n",
    "df = melted_df.pivot(index='Category', columns=['SuicideRate_Type', 'Year'], values='Suicide Rate')\n",
    "df['Male_Avg'] = df[['Male']].mean(axis=1)\n",
    "df['Female_Avg'] = df[['Female']].mean(axis=1)\n",
    "df['Both_Avg'] = df[['BothSexes']].mean(axis=1)\n",
    "df.to_csv('all_sexes_average_suicide_rates_years_2019_2021.csv', index=True)"
   ]
  }
 ],
 "metadata": {
  "kernelspec": {
   "display_name": ".venv",
   "language": "python",
   "name": "python3"
  },
  "language_info": {
   "codemirror_mode": {
    "name": "ipython",
    "version": 3
   },
   "file_extension": ".py",
   "mimetype": "text/x-python",
   "name": "python",
   "nbconvert_exporter": "python",
   "pygments_lexer": "ipython3",
   "version": "3.12.6"
  }
 },
 "nbformat": 4,
 "nbformat_minor": 2
}
